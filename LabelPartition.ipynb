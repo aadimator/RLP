{
 "cells": [
  {
   "cell_type": "code",
   "execution_count": 158,
   "metadata": {},
   "outputs": [],
   "source": [
    "import random\n",
    "import itertools\n",
    "import networkx as nx\n",
    "\n",
    "from time import time\n",
    "from os import listdir\n",
    "from os.path import isfile, join\n",
    "from networkx.algorithms.community.quality import modularity"
   ]
  },
  {
   "cell_type": "code",
   "execution_count": 159,
   "metadata": {},
   "outputs": [
    {
     "output_type": "execute_result",
     "data": {
      "text/plain": "['input_files\\\\facebook_combined.txt', 'input_files\\\\karateclub.txt']"
     },
     "metadata": {},
     "execution_count": 159
    }
   ],
   "source": [
    "dir_path = \"input_files\"\n",
    "\n",
    "input_files = [join(dir_path, f) for f in listdir(dir_path) if isfile(join(dir_path, f))]\n",
    "input_files"
   ]
  },
  {
   "cell_type": "code",
   "execution_count": 160,
   "metadata": {},
   "outputs": [
    {
     "output_type": "execute_result",
     "data": {
      "text/plain": "'input_files\\\\facebook_combined.txt'"
     },
     "metadata": {},
     "execution_count": 160
    }
   ],
   "source": [
    "file_index = 0\n",
    "filename = input_files[file_index]\n",
    "filename"
   ]
  },
  {
   "cell_type": "code",
   "execution_count": 161,
   "metadata": {},
   "outputs": [],
   "source": [
    "G = nx.read_edgelist(filename)\n",
    "original_node_labels = np.array(G)\n",
    "G = nx.convert_node_labels_to_integers(G)"
   ]
  },
  {
   "cell_type": "code",
   "execution_count": 162,
   "metadata": {
    "tags": []
   },
   "outputs": [],
   "source": [
    "def label_partition(G, k=8):\n",
    "    unlabeled_nodes = set(G.nodes())\n",
    "    labeled_nodes = set()\n",
    "    labels = [0] * len(unlabeled_nodes)\n",
    "    random_k_nodes = random.sample(unlabeled_nodes, k)\n",
    "    for i, r in enumerate(random_k_nodes):\n",
    "        labels[r] = i\n",
    "        unlabeled_nodes.discard(r)\n",
    "        labeled_nodes.add(r)\n",
    "    while unlabeled_nodes:\n",
    "        for n in labeled_nodes.copy():\n",
    "            neighbors = set(nx.neighbors(G, n)) - labeled_nodes\n",
    "\n",
    "            if neighbors:\n",
    "                neighbor = random.sample(neighbors, 1)[0]\n",
    "                labels[neighbor] = labels[n]\n",
    "                unlabeled_nodes.discard(neighbor)\n",
    "                labeled_nodes.add(neighbor)\n",
    "    partitions = [[] for i in range(k)]\n",
    "    nodes = list(G.nodes())\n",
    "    for i, l in enumerate(labels):\n",
    "        partitions[l].append(nodes[i])\n",
    "    return partitions"
   ]
  },
  {
   "cell_type": "code",
   "execution_count": 163,
   "metadata": {
    "tags": []
   },
   "outputs": [
    {
     "output_type": "stream",
     "name": "stdout",
     "text": "0.41906713862619904\n0.23681557371356302\n0.46553984528807274\n0.5313524257442966\n0.35375815280905076\n0.4481718970803325\n0.36947544014416206\n0.3655432777584036\n0.5303714681599236\n0.30561224229205725\n"
    }
   ],
   "source": [
    "def graph_partition(G, k=8, c=10):\n",
    "    best_partition = list()\n",
    "    best_modularity = float(\"-inf\")\n",
    "    for i in range(c):\n",
    "        partitions = label_partition(G, k)\n",
    "        partition_modularity = modularity(G, partitions)\n",
    "        print(partition_modularity)\n",
    "        if (best_modularity < partition_modularity):\n",
    "            best_partition = partitions\n",
    "            best_modularity = partition_modularity\n",
    "    return best_partition, best_modularity\n",
    "\n",
    "partitions, mod = graph_partition(G)"
   ]
  },
  {
   "cell_type": "code",
   "execution_count": 164,
   "metadata": {
    "tags": []
   },
   "outputs": [
    {
     "output_type": "stream",
     "name": "stdout",
     "text": "Modularity of the partitions: 0.5313524257442966\n"
    }
   ],
   "source": [
    "print(\"Modularity of the partitions: \" + str(mod))"
   ]
  },
  {
   "cell_type": "code",
   "execution_count": null,
   "metadata": {},
   "outputs": [],
   "source": []
  }
 ],
 "metadata": {
  "kernelspec": {
   "name": "python_defaultSpec_1594831926756",
   "display_name": "Python 3.7.6 64-bit ('graphs': conda)"
  }
 },
 "nbformat": 4,
 "nbformat_minor": 4
}