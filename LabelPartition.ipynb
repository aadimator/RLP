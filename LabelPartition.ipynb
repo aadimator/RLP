{
 "cells": [
  {
   "cell_type": "code",
   "execution_count": 1,
   "metadata": {},
   "outputs": [],
   "source": [
    "import random\n",
    "import itertools\n",
    "import networkx as nx\n",
    "\n",
    "from time import time\n",
    "from os import listdir\n",
    "from os.path import isfile, join\n",
    "from networkx.algorithms.community.quality import modularity"
   ]
  },
  {
   "cell_type": "code",
   "execution_count": 10,
   "metadata": {},
   "outputs": [
    {
     "output_type": "execute_result",
     "data": {
      "text/plain": "['input_files\\\\airtc.txt',\n 'input_files\\\\dolphins.txt',\n 'input_files\\\\facebook_combined.txt',\n 'input_files\\\\karateclub.txt',\n 'input_files\\\\lesmis.txt',\n 'input_files\\\\mcldata.txt']"
     },
     "metadata": {},
     "execution_count": 10
    }
   ],
   "source": [
    "dir_path = \"input_files\"\n",
    "\n",
    "input_files = [join(dir_path, f) for f in listdir(dir_path) if isfile(join(dir_path, f))]\n",
    "input_files"
   ]
  },
  {
   "cell_type": "code",
   "execution_count": 160,
   "metadata": {},
   "outputs": [
    {
     "output_type": "execute_result",
     "data": {
      "text/plain": "'input_files\\\\facebook_combined.txt'"
     },
     "metadata": {},
     "execution_count": 160
    }
   ],
   "source": [
    "file_index = 0\n",
    "filename = input_files[file_index]\n",
    "filename"
   ]
  },
  {
   "cell_type": "code",
   "execution_count": 161,
   "metadata": {},
   "outputs": [],
   "source": [
    "G = nx.read_edgelist(filename)\n",
    "original_node_labels = np.array(G)\n",
    "G = nx.convert_node_labels_to_integers(G)"
   ]
  },
  {
   "cell_type": "code",
   "execution_count": 5,
   "metadata": {
    "tags": []
   },
   "outputs": [],
   "source": [
    "def label_partition(G, k=8):\n",
    "    unlabeled_nodes = set(G.nodes())\n",
    "    labeled_nodes = set()\n",
    "    labels = [0] * len(unlabeled_nodes)\n",
    "    random_k_nodes = random.sample(unlabeled_nodes, k)\n",
    "    for i, r in enumerate(random_k_nodes):\n",
    "        labels[r] = i\n",
    "        unlabeled_nodes.discard(r)\n",
    "        labeled_nodes.add(r)\n",
    "    while unlabeled_nodes:\n",
    "        for n in labeled_nodes.copy():\n",
    "            neighbors = set(nx.neighbors(G, n)) - labeled_nodes\n",
    "\n",
    "            if neighbors:\n",
    "                neighbor = random.sample(neighbors, 1)[0]\n",
    "                labels[neighbor] = labels[n]\n",
    "                unlabeled_nodes.discard(neighbor)\n",
    "                labeled_nodes.add(neighbor)\n",
    "    partitions = [[] for i in range(k)]\n",
    "    nodes = list(G.nodes())\n",
    "    for i, l in enumerate(labels):\n",
    "        partitions[l].append(nodes[i])\n",
    "    return partitions"
   ]
  },
  {
   "cell_type": "code",
   "execution_count": 6,
   "metadata": {
    "tags": []
   },
   "outputs": [
    {
     "output_type": "stream",
     "name": "stdout",
     "text": "0.546707787399914\n0.5287431345875603\n0.5285965289848145\n0.5425751967073155\n0.5162423167641712\n0.5492556946329107\n0.5488051169915668\n0.5251180248267426\n0.527082092249945\n0.5234168661002199\n"
    }
   ],
   "source": [
    "def graph_partition(G, k=8, c=10):\n",
    "    best_partition = list()\n",
    "    best_modularity = float(\"-inf\")\n",
    "    for i in range(c):\n",
    "        partitions = label_partition(G, k)\n",
    "        partition_modularity = modularity(G, partitions)\n",
    "        print(partition_modularity)\n",
    "        if (best_modularity < partition_modularity):\n",
    "            best_partition = partitions\n",
    "            best_modularity = partition_modularity\n",
    "    return best_partition, best_modularity\n",
    "\n",
    "partitions, mod = graph_partition(G)"
   ]
  },
  {
   "cell_type": "code",
   "execution_count": 164,
   "metadata": {
    "tags": []
   },
   "outputs": [
    {
     "output_type": "stream",
     "name": "stdout",
     "text": "Modularity of the partitions: 0.5313524257442966\n"
    }
   ],
   "source": [
    "print(\"Modularity of the partitions: \" + str(mod))"
   ]
  },
  {
   "cell_type": "code",
   "execution_count": 11,
   "metadata": {
    "tags": []
   },
   "outputs": [
    {
     "output_type": "stream",
     "name": "stdout",
     "text": "Processing input_files\\airtc.txt\n0.5267088204396644\n0.552606101822812\n0.5380928358667836\n0.5688299099526728\n0.5457778791682656\n0.553077942872322\n0.5245380589173626\n0.5444069489156765\n0.5307008315967564\n0.5420108985721841\nProcessing input_files\\dolphins.txt\n0.32117004865313814\n0.3175111743997467\n0.35647324077370357\n0.28602507812190947\n0.2973379217594224\n0.35676990625370786\n0.31592895850638825\n0.3544163601123373\n0.2898421739646381\n0.34355840354416267\nProcessing input_files\\facebook_combined.txt\n0.19434983465777425\n0.3921234324568698\n0.3551862831268567\n0.49875597668789867\n0.5608311519196506\n0.5115285530490519\n0.4338610230027355\n0.5584794152454787\n0.25201517666856543\n0.4972449963740549\nProcessing input_files\\karateclub.txt\n0.2509040105193949\n0.2275641025641025\n0.22205785667324116\n0.23216633793556868\n0.25632807363576565\n0.24589086127547669\n0.24013806706114388\n0.23775476660092018\n0.22049638395792268\n0.24802761341222862\nProcessing input_files\\lesmis.txt\n0.33132866265732625\n0.3288719077438156\n0.28203856407712957\n0.28892057784115627\n0.29798034596069284\n0.36903248806497757\n0.3293834087668187\n0.32048639097278225\n0.3840365180730372\n0.26864653729307525\nProcessing input_files\\mcldata.txt\n0.19494671999999175\n0.14316607999999953\n0.17382911999999778\n0.14768287999999938\n0.14594807999999973\n0.14726527999999872\n0.1317936\n0.16136959999999795\n0.12486080000000055\n0.23982455999999877\n"
    },
    {
     "output_type": "execute_result",
     "data": {
      "text/plain": "{'input_files\\\\mcldata.txt': (0.23982455999999877,\n  [[100,\n    101,\n    102,\n    103,\n    104,\n    105,\n    106,\n    107,\n    108,\n    109,\n    110,\n    111,\n    112,\n    113,\n    114,\n    115,\n    116,\n    117,\n    118,\n    119,\n    120,\n    121,\n    122,\n    123,\n    124,\n    125,\n    126,\n    127,\n    128,\n    129,\n    130,\n    131,\n    132,\n    133,\n    134,\n    135,\n    136,\n    137,\n    138,\n    139,\n    140,\n    141,\n    142,\n    143,\n    144,\n    145,\n    146,\n    147,\n    148,\n    149,\n    150,\n    151,\n    152,\n    153,\n    154,\n    155,\n    156,\n    157,\n    158,\n    159,\n    160,\n    161,\n    162,\n    163,\n    164,\n    165,\n    166,\n    167,\n    168,\n    169,\n    170,\n    171,\n    172,\n    173,\n    174,\n    175,\n    176,\n    177,\n    178,\n    179,\n    180,\n    181,\n    182,\n    183,\n    184,\n    185,\n    186,\n    187,\n    188,\n    189,\n    190,\n    191,\n    192,\n    193,\n    194,\n    195,\n    196,\n    197,\n    198,\n    199],\n   [30, 41, 46, 47, 57, 59, 68, 82, 88, 89, 92, 95],\n   [11, 25, 37, 42, 43, 48, 58, 67, 70, 72, 73, 78, 80],\n   [14, 16, 21, 32, 33, 39, 45, 54, 55, 56, 64, 66, 71, 74, 79, 81],\n   [31, 38, 44, 51, 52, 53, 63, 65, 83, 85, 94, 96, 99],\n   [0, 3, 4, 5, 6, 7, 8, 12, 13, 15, 19, 20, 22, 23, 24, 27, 28, 29, 36],\n   [1, 2, 9, 10, 34, 49, 50, 75, 76, 84, 86, 87, 90, 91, 93],\n   [17, 18, 26, 35, 40, 60, 61, 62, 69, 77, 97, 98]])}"
     },
     "metadata": {},
     "execution_count": 11
    }
   ],
   "source": [
    "results = dict()\n",
    "for f in input_files:\n",
    "    print(\"Processing \" + f)\n",
    "    G = nx.read_edgelist(f)\n",
    "    G = nx.convert_node_labels_to_integers(G)\n",
    "    partitions, mod = graph_partition(G)\n",
    "    results[f] = (mod, partitions)\n",
    "\n",
    "results"
   ]
  },
  {
   "cell_type": "code",
   "execution_count": 13,
   "metadata": {},
   "outputs": [
    {
     "output_type": "error",
     "ename": "KeyError",
     "evalue": "'input_files\\\\airtc.txt'",
     "traceback": [
      "\u001b[1;31m---------------------------------------------------------------------------\u001b[0m",
      "\u001b[1;31mKeyError\u001b[0m                                  Traceback (most recent call last)",
      "\u001b[1;32m<ipython-input-13-588ad53920ff>\u001b[0m in \u001b[0;36m<module>\u001b[1;34m\u001b[0m\n\u001b[1;32m----> 1\u001b[1;33m \u001b[0mresults\u001b[0m\u001b[1;33m[\u001b[0m\u001b[0minput_files\u001b[0m\u001b[1;33m[\u001b[0m\u001b[1;36m0\u001b[0m\u001b[1;33m]\u001b[0m\u001b[1;33m]\u001b[0m\u001b[1;33m\u001b[0m\u001b[1;33m\u001b[0m\u001b[0m\n\u001b[0m",
      "\u001b[1;31mKeyError\u001b[0m: 'input_files\\\\airtc.txt'"
     ]
    }
   ],
   "source": [
    "results[input_files[0]]"
   ]
  },
  {
   "cell_type": "code",
   "execution_count": null,
   "metadata": {},
   "outputs": [],
   "source": []
  }
 ],
 "metadata": {
  "kernelspec": {
   "name": "python_defaultSpec_1594889227453",
   "display_name": "Python 3.7.6 64-bit ('graphs': conda)"
  }
 },
 "nbformat": 4,
 "nbformat_minor": 4
}