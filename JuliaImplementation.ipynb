{
  "cells": [
    {
      "cell_type": "code",
      "source": [
        "using LightGraphs, GraphIO\n",
        "using TimerOutputs\n",
        "using StatsBase"
      ],
      "outputs": [
        {
          "output_type": "stream",
          "name": "stderr",
          "text": [
            "┌ Info: Precompiling StatsBase [2913bbd2-ae8a-5f71-8c99-4fb6c76f3a91]\n",
            "└ @ Base loading.jl:1260\n"
          ]
        }
      ],
      "execution_count": 84,
      "metadata": {
        "collapsed": true,
        "jupyter": {
          "source_hidden": false,
          "outputs_hidden": false
        },
        "nteract": {
          "transient": {
            "deleting": false
          }
        },
        "execution": {
          "iopub.status.busy": "2020-07-17T11:08:39.599Z",
          "iopub.execute_input": "2020-07-17T11:08:39.603Z",
          "iopub.status.idle": "2020-07-17T11:08:42.572Z"
        }
      }
    },
    {
      "cell_type": "code",
      "source": [
        "const to = TimerOutput()\n",
        "dir = \"input_files\"\n",
        "input_files = filter(x -> isfile(joinpath(dir, x)), readdir(dir))"
      ],
      "outputs": [
        {
          "output_type": "execute_result",
          "execution_count": 2,
          "data": {
            "text/plain": "6-element Array{String,1}:\n \"airtc.txt\"\n \"dolphins.txt\"\n \"facebook_combined.txt\"\n \"karateclub.txt\"\n \"lesmis.txt\"\n \"mcldata.txt\""
          },
          "metadata": {}
        }
      ],
      "execution_count": 2,
      "metadata": {
        "collapsed": true,
        "jupyter": {
          "source_hidden": false,
          "outputs_hidden": false
        },
        "nteract": {
          "transient": {
            "deleting": false
          }
        },
        "execution": {
          "iopub.status.busy": "2020-07-17T10:55:59.581Z",
          "iopub.execute_input": "2020-07-17T10:55:59.816Z",
          "iopub.status.idle": "2020-07-17T10:56:01.202Z"
        }
      }
    },
    {
      "cell_type": "code",
      "source": [
        "for file in input_files[4:4]\n",
        "  filename = joinpath(dir, file)\n",
        "  println(filename)\n",
        "  g = SimpleGraph(loadgraph(filename, \"graph\", GraphIO.EdgeList.EdgeListFormat()))\n",
        "#   @timeit to filename result = pseudo_random_walk(filename)\n",
        "end"
      ],
      "outputs": [
        {
          "output_type": "stream",
          "name": "stdout",
          "text": [
            "input_files\\karateclub.txt\n"
          ]
        }
      ],
      "execution_count": 5,
      "metadata": {
        "collapsed": true,
        "jupyter": {
          "source_hidden": false,
          "outputs_hidden": false
        },
        "nteract": {
          "transient": {
            "deleting": false
          }
        },
        "execution": {
          "iopub.status.busy": "2020-07-17T10:58:18.771Z",
          "iopub.execute_input": "2020-07-17T10:58:18.774Z",
          "iopub.status.idle": "2020-07-17T10:58:18.781Z"
        }
      }
    },
    {
      "cell_type": "code",
      "source": [
        "function label_partition(G; k=8)\n",
        "  unlabeled_nodes = Set(vertices(g));\n",
        "  labeled_nodes = Set();\n",
        "  labels = zeros(Int, nv(g));\n",
        "  random_k_nodes = sample(vertices(g), k, replace=false);\n",
        "  for (i, r) in enumerate(random_k_nodes)\n",
        "    labels[r] = i;\n",
        "    unlabeled_nodes = delete!(unlabeled_nodes, r)\n",
        "    labeled_nodes = push!(labeled_nodes, r)\n",
        "  end\n",
        "  \n",
        "  while !isempty(unlabeled_nodes)\n",
        "    for n in copy(labeled_nodes)\n",
        "      n_neighbors = setdiff(Set(neighbors(g, n)), labeled_nodes)\n",
        "      if !isempty(n_neighbors)\n",
        "        neighbor = sample(collect(n_neighbors), 1)[1];\n",
        "        labels[neighbor] = labels[n];\n",
        "        unlabeled_nodes = delete!(unlabeled_nodes, neighbor);\n",
        "        labeled_nodes = push!(labeled_nodes, neighbor);\n",
        "      end\n",
        "    end\n",
        "  end\n",
        "  return labels\n",
        "end\n",
        "\n",
        "function graph_partition(g; k=8, c=10)\n",
        "  best_partition = []\n",
        "  best_modularity = -Inf\n",
        "  for i in 1:c\n",
        "    partitions = label_partition(g, k)\n",
        "    partition_modularity = modularity(g, partitions)\n",
        "    println(partition_modularity)\n",
        "    if (best_modularity < partition_modularity)\n",
        "      best_partition = partitions\n",
        "      best_modularity = partition_modularity\n",
        "    end\n",
        "  end\n",
        "  return best_partition, best_modularity\n",
        "end"
      ],
      "outputs": [
        {
          "output_type": "execute_result",
          "execution_count": 254,
          "data": {
            "text/plain": "graph_partition (generic function with 1 method)"
          },
          "metadata": {}
        }
      ],
      "execution_count": 254,
      "metadata": {
        "collapsed": true,
        "jupyter": {
          "source_hidden": false,
          "outputs_hidden": false
        },
        "nteract": {
          "transient": {
            "deleting": false
          }
        },
        "execution": {
          "iopub.status.busy": "2020-07-17T11:43:27.134Z",
          "iopub.execute_input": "2020-07-17T11:43:27.139Z",
          "iopub.status.idle": "2020-07-17T11:43:27.149Z"
        }
      }
    },
    {
      "cell_type": "code",
      "source": [
        "filename = joinpath(dir, input_files[3])\n",
        "g = SimpleGraph(loadgraph(filename, \"graph\", GraphIO.EdgeList.EdgeListFormat()))"
      ],
      "outputs": [
        {
          "output_type": "execute_result",
          "execution_count": 255,
          "data": {
            "text/plain": "{4037, 88234} undirected simple Int64 graph"
          },
          "metadata": {}
        }
      ],
      "execution_count": 255,
      "metadata": {
        "collapsed": true,
        "jupyter": {
          "source_hidden": false,
          "outputs_hidden": false
        },
        "nteract": {
          "transient": {
            "deleting": false
          }
        },
        "execution": {
          "iopub.status.busy": "2020-07-17T11:43:28.936Z",
          "iopub.execute_input": "2020-07-17T11:43:28.943Z",
          "iopub.status.idle": "2020-07-17T11:43:29.023Z"
        }
      }
    },
    {
      "cell_type": "code",
      "source": [
        "@timeit to filename graph_partition(g; k=8, c=25)"
      ],
      "outputs": [
        {
          "output_type": "stream",
          "name": "stdout",
          "text": [
            "0.46422860653626435\n",
            "0.4953345279588237\n",
            "0.45645217007780103\n",
            "0.5572376392318827\n",
            "0.4323467302985306\n",
            "0.40444082171832624\n",
            "0.36661519013149196\n",
            "0.4238655853305471\n",
            "0.40122982417753356\n",
            "0.34986252793478234\n",
            "0.3776476500459429\n",
            "0.5324217257377585\n",
            "0.31479973576419884\n",
            "0.35232138271110464\n",
            "0.5003936264957369\n",
            "0.3383283110257897\n",
            "0.4499145230517835\n",
            "0.44401340994017935\n",
            "0.572846504009003\n",
            "0.34394878251952227\n",
            "0.33547869764907695\n",
            "0.3612668165870185\n",
            "0.41253736961821186\n",
            "0.30063991896795206\n",
            "0.4655708143769612\n"
          ]
        },
        {
          "output_type": "execute_result",
          "execution_count": 258,
          "data": {
            "text/plain": "([7, 7, 7, 7, 7, 7, 7, 7, 7, 7  …  5, 5, 5, 5, 5, 5, 5, 5, 5, 5], 0.572846504009003)"
          },
          "metadata": {}
        }
      ],
      "execution_count": 258,
      "metadata": {
        "collapsed": true,
        "jupyter": {
          "source_hidden": false,
          "outputs_hidden": false
        },
        "nteract": {
          "transient": {
            "deleting": false
          }
        },
        "execution": {
          "iopub.status.busy": "2020-07-17T11:43:42.018Z",
          "iopub.execute_input": "2020-07-17T11:43:42.025Z",
          "iopub.status.idle": "2020-07-17T11:43:47.916Z"
        }
      }
    },
    {
      "cell_type": "code",
      "source": [
        "to"
      ],
      "outputs": [
        {
          "output_type": "execute_result",
          "execution_count": 259,
          "data": {
            "text/plain": "\u001b[0m\u001b[1m ──────────────────────────────────────────────────────────────────────────────\u001b[22m\n\u001b[0m\u001b[1m                               \u001b[22m        Time                   Allocations      \n                               ──────────────────────   ───────────────────────\n       Tot / % measured:            2871s / 0.84%           42.7GiB / 46.8%    \n\n Section               ncalls     time   %tot     avg     alloc   %tot      avg\n ──────────────────────────────────────────────────────────────────────────────\n input_files\\facebo...      9    24.0s   100%   2.67s   20.0GiB  100%   2.22GiB\n\u001b[0m\u001b[1m ──────────────────────────────────────────────────────────────────────────────\u001b[22m"
          },
          "metadata": {}
        }
      ],
      "execution_count": 259,
      "metadata": {
        "collapsed": true,
        "jupyter": {
          "source_hidden": false,
          "outputs_hidden": false
        },
        "nteract": {
          "transient": {
            "deleting": false
          }
        },
        "execution": {
          "iopub.status.busy": "2020-07-17T11:43:51.103Z",
          "iopub.execute_input": "2020-07-17T11:43:51.107Z",
          "iopub.status.idle": "2020-07-17T11:43:51.117Z"
        }
      }
    },
    {
      "cell_type": "code",
      "source": [
        "test = Set([1, 2, 3, 4])\n",
        "for t in copy(test)\n",
        "  println(t)\n",
        "  test = push!(test, t+10)\n",
        "end"
      ],
      "outputs": [
        {
          "output_type": "stream",
          "name": "stdout",
          "text": [
            "4\n",
            "2\n",
            "3\n",
            "1\n"
          ]
        }
      ],
      "execution_count": 252,
      "metadata": {
        "collapsed": true,
        "jupyter": {
          "source_hidden": false,
          "outputs_hidden": false
        },
        "nteract": {
          "transient": {
            "deleting": false
          }
        },
        "execution": {
          "iopub.status.busy": "2020-07-17T11:43:09.994Z",
          "iopub.execute_input": "2020-07-17T11:43:09.999Z",
          "iopub.status.idle": "2020-07-17T11:43:10.009Z"
        }
      }
    },
    {
      "cell_type": "code",
      "source": [
        "test"
      ],
      "outputs": [
        {
          "output_type": "execute_result",
          "execution_count": 253,
          "data": {
            "text/plain": "Set{Int64} with 8 elements:\n  4\n  14\n  13\n  2\n  3\n  11\n  12\n  1"
          },
          "metadata": {}
        }
      ],
      "execution_count": 253,
      "metadata": {
        "collapsed": true,
        "jupyter": {
          "source_hidden": false,
          "outputs_hidden": false
        },
        "nteract": {
          "transient": {
            "deleting": false
          }
        },
        "execution": {
          "iopub.status.busy": "2020-07-17T11:43:10.537Z",
          "iopub.execute_input": "2020-07-17T11:43:10.540Z",
          "iopub.status.idle": "2020-07-17T11:43:10.550Z"
        }
      }
    },
    {
      "cell_type": "code",
      "source": [],
      "outputs": [],
      "execution_count": null,
      "metadata": {
        "collapsed": true,
        "jupyter": {
          "source_hidden": false,
          "outputs_hidden": false
        },
        "nteract": {
          "transient": {
            "deleting": false
          }
        }
      }
    }
  ],
  "metadata": {
    "kernel_info": {
      "name": "julia-1.4"
    },
    "language_info": {
      "file_extension": ".jl",
      "name": "julia",
      "mimetype": "application/julia",
      "version": "1.4.2"
    },
    "kernelspec": {
      "argv": [
        "C:\\Users\\aadim\\AppData\\Local\\Programs\\Julia\\Julia-1.4.2\\bin\\julia.exe",
        "-i",
        "--startup-file=yes",
        "--color=yes",
        "--project=@.",
        "C:\\Users\\aadim\\.julia\\packages\\IJulia\\DrVMH\\src\\kernel.jl",
        "{connection_file}"
      ],
      "display_name": "Julia 1.4.2",
      "env": {},
      "interrupt_mode": "message",
      "language": "julia",
      "name": "julia-1.4"
    },
    "nteract": {
      "version": "0.24.0"
    }
  },
  "nbformat": 4,
  "nbformat_minor": 0
}